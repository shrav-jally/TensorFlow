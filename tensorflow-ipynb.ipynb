{
 "cells": [
  {
   "cell_type": "code",
   "execution_count": 1,
   "id": "98a92084",
   "metadata": {
    "_cell_guid": "b1076dfc-b9ad-4769-8c92-a6c4dae69d19",
    "_uuid": "8f2839f25d086af736a60e9eeb907d3b93b6e0e5",
    "execution": {
     "iopub.execute_input": "2025-08-01T10:27:34.660270Z",
     "iopub.status.busy": "2025-08-01T10:27:34.659954Z",
     "iopub.status.idle": "2025-08-01T10:27:36.673595Z",
     "shell.execute_reply": "2025-08-01T10:27:36.672598Z"
    },
    "papermill": {
     "duration": 2.022837,
     "end_time": "2025-08-01T10:27:36.675350",
     "exception": false,
     "start_time": "2025-08-01T10:27:34.652513",
     "status": "completed"
    },
    "tags": []
   },
   "outputs": [],
   "source": [
    "import numpy as np # linear algebra\n",
    "import pandas as pd # data processing, CSV file I/O (e.g. pd.read_csv)\n",
    "\n",
    "import os\n",
    "for dirname, _, filenames in os.walk('/kaggle/input'):\n",
    "    for filename in filenames:\n",
    "        print(os.path.join(dirname, filename))"
   ]
  },
  {
   "cell_type": "markdown",
   "id": "bd6d28e0",
   "metadata": {
    "papermill": {
     "duration": 0.004838,
     "end_time": "2025-08-01T10:27:36.685736",
     "exception": false,
     "start_time": "2025-08-01T10:27:36.680898",
     "status": "completed"
    },
    "tags": []
   },
   "source": [
    "# **Introduction to Tensorflow** "
   ]
  },
  {
   "cell_type": "code",
   "execution_count": 2,
   "id": "f2a1f5d7",
   "metadata": {
    "execution": {
     "iopub.execute_input": "2025-08-01T10:27:36.697631Z",
     "iopub.status.busy": "2025-08-01T10:27:36.697207Z",
     "iopub.status.idle": "2025-08-01T10:27:55.869765Z",
     "shell.execute_reply": "2025-08-01T10:27:55.868830Z"
    },
    "papermill": {
     "duration": 19.180564,
     "end_time": "2025-08-01T10:27:55.871642",
     "exception": false,
     "start_time": "2025-08-01T10:27:36.691078",
     "status": "completed"
    },
    "tags": []
   },
   "outputs": [
    {
     "name": "stderr",
     "output_type": "stream",
     "text": [
      "WARNING: All log messages before absl::InitializeLog() is called are written to STDERR\n",
      "E0000 00:00:1754044058.864200      13 cuda_dnn.cc:8310] Unable to register cuDNN factory: Attempting to register factory for plugin cuDNN when one has already been registered\n",
      "E0000 00:00:1754044058.937374      13 cuda_blas.cc:1418] Unable to register cuBLAS factory: Attempting to register factory for plugin cuBLAS when one has already been registered\n"
     ]
    }
   ],
   "source": [
    "import os\n",
    "os.environ['TF_CPP_MIN_LOG_LEVEL'] = '3'  # 0 = all logs, 1 = filter INFO, 2 = filter WARNING, 3 = filter ERROR\n",
    "import tensorflow as tf\n",
    "\n",
    "\n",
    "scalar = tf.constant(5)\n",
    "vector = tf.constant([1, 2, 3])\n",
    "matrix = tf.constant([[1, 2, 3], [4, 5, 6]])"
   ]
  },
  {
   "cell_type": "code",
   "execution_count": 3,
   "id": "c2ad7b9e",
   "metadata": {
    "execution": {
     "iopub.execute_input": "2025-08-01T10:27:55.885008Z",
     "iopub.status.busy": "2025-08-01T10:27:55.883829Z",
     "iopub.status.idle": "2025-08-01T10:27:55.898552Z",
     "shell.execute_reply": "2025-08-01T10:27:55.897346Z"
    },
    "papermill": {
     "duration": 0.022907,
     "end_time": "2025-08-01T10:27:55.900293",
     "exception": false,
     "start_time": "2025-08-01T10:27:55.877386",
     "status": "completed"
    },
    "tags": []
   },
   "outputs": [],
   "source": [
    "variable = tf.Variable([[1.0, 2.0], [3.0, 4.0]])"
   ]
  },
  {
   "cell_type": "code",
   "execution_count": 4,
   "id": "dc7ef554",
   "metadata": {
    "execution": {
     "iopub.execute_input": "2025-08-01T10:27:55.912287Z",
     "iopub.status.busy": "2025-08-01T10:27:55.911959Z",
     "iopub.status.idle": "2025-08-01T10:27:55.919811Z",
     "shell.execute_reply": "2025-08-01T10:27:55.918951Z"
    },
    "papermill": {
     "duration": 0.01588,
     "end_time": "2025-08-01T10:27:55.921503",
     "exception": false,
     "start_time": "2025-08-01T10:27:55.905623",
     "status": "completed"
    },
    "tags": []
   },
   "outputs": [],
   "source": [
    "random_tensor = tf.random.uniform(shape=(2, 3), minval=0, maxval=10, dtype=tf.int32)"
   ]
  },
  {
   "cell_type": "code",
   "execution_count": 5,
   "id": "51e8e7a4",
   "metadata": {
    "execution": {
     "iopub.execute_input": "2025-08-01T10:27:55.933361Z",
     "iopub.status.busy": "2025-08-01T10:27:55.933025Z",
     "iopub.status.idle": "2025-08-01T10:27:55.940300Z",
     "shell.execute_reply": "2025-08-01T10:27:55.939267Z"
    },
    "papermill": {
     "duration": 0.014978,
     "end_time": "2025-08-01T10:27:55.941891",
     "exception": false,
     "start_time": "2025-08-01T10:27:55.926913",
     "status": "completed"
    },
    "tags": []
   },
   "outputs": [
    {
     "name": "stdout",
     "output_type": "stream",
     "text": [
      "Tensor:\n",
      " tf.Tensor(\n",
      "[[1 2 3]\n",
      " [4 5 6]], shape=(2, 3), dtype=int32)\n",
      "Shape: (2, 3)\n",
      "Data Type: <dtype: 'int32'>\n",
      "Rank: 2\n"
     ]
    }
   ],
   "source": [
    "import tensorflow as tf\n",
    "\n",
    "matrix = tf.constant([[1, 2, 3], [4, 5, 6]])\n",
    "\n",
    "print(\"Tensor:\\n\", matrix)\n",
    "print(\"Shape:\", matrix.shape)\n",
    "print(\"Data Type:\", matrix.dtype)\n",
    "print(\"Rank:\", tf.rank(matrix).numpy())"
   ]
  },
  {
   "cell_type": "code",
   "execution_count": 6,
   "id": "459381ba",
   "metadata": {
    "execution": {
     "iopub.execute_input": "2025-08-01T10:27:55.954587Z",
     "iopub.status.busy": "2025-08-01T10:27:55.954273Z",
     "iopub.status.idle": "2025-08-01T10:27:55.971731Z",
     "shell.execute_reply": "2025-08-01T10:27:55.970720Z"
    },
    "papermill": {
     "duration": 0.026065,
     "end_time": "2025-08-01T10:27:55.973434",
     "exception": false,
     "start_time": "2025-08-01T10:27:55.947369",
     "status": "completed"
    },
    "tags": []
   },
   "outputs": [
    {
     "name": "stdout",
     "output_type": "stream",
     "text": [
      "Original shape: (2, 2, 2)\n",
      "Reshaped: (4, 2)\n",
      "Expanded: (1, 2, 2, 2)\n",
      "Squeezed: (2, 2, 2)\n",
      "Transposed: (2, 2, 2)\n"
     ]
    }
   ],
   "source": [
    "tensor = tf.constant([\n",
    "    [[1, 2], [3, 4]],\n",
    "    [[5, 6], [7, 8]]\n",
    "]) \n",
    "\n",
    "new_shape = (4, 2)  \n",
    "\n",
    "reshaped = tf.reshape(tensor, new_shape)\n",
    "expanded = tf.expand_dims(tensor, axis=0)\n",
    "squeezed = tf.squeeze(expanded, axis=0)  # Using 'expanded' here since original tensor wasn't actually squeezed\n",
    "transposed = tf.transpose(tensor, perm=[1, 0, 2])  # Swap first two axes\n",
    "\n",
    "print(\"Original shape:\", tensor.shape)\n",
    "print(\"Reshaped:\", reshaped.shape)\n",
    "print(\"Expanded:\", expanded.shape)\n",
    "print(\"Squeezed:\", squeezed.shape)\n",
    "print(\"Transposed:\", transposed.shape)\n"
   ]
  },
  {
   "cell_type": "code",
   "execution_count": 7,
   "id": "ce7509a5",
   "metadata": {
    "execution": {
     "iopub.execute_input": "2025-08-01T10:27:55.985356Z",
     "iopub.status.busy": "2025-08-01T10:27:55.985064Z",
     "iopub.status.idle": "2025-08-01T10:27:55.991785Z",
     "shell.execute_reply": "2025-08-01T10:27:55.990842Z"
    },
    "papermill": {
     "duration": 0.014551,
     "end_time": "2025-08-01T10:27:55.993405",
     "exception": false,
     "start_time": "2025-08-01T10:27:55.978854",
     "status": "completed"
    },
    "tags": []
   },
   "outputs": [],
   "source": [
    "import tensorflow as tf\n",
    "\n",
    "float_tensor = tf.constant([1.0, 2.0, 3.0], dtype=tf.float32)\n",
    "int_tensor = tf.constant([1, 2, 3], dtype=tf.int32)\n",
    "bool_tensor = tf.constant([True, False, True], dtype=tf.bool)"
   ]
  },
  {
   "cell_type": "code",
   "execution_count": 8,
   "id": "f493e57c",
   "metadata": {
    "execution": {
     "iopub.execute_input": "2025-08-01T10:27:56.005567Z",
     "iopub.status.busy": "2025-08-01T10:27:56.005146Z",
     "iopub.status.idle": "2025-08-01T10:27:56.012625Z",
     "shell.execute_reply": "2025-08-01T10:27:56.011696Z"
    },
    "papermill": {
     "duration": 0.016,
     "end_time": "2025-08-01T10:27:56.014930",
     "exception": false,
     "start_time": "2025-08-01T10:27:55.998930",
     "status": "completed"
    },
    "tags": []
   },
   "outputs": [],
   "source": [
    "casted_tensor = tf.cast(float_tensor, dtype=tf.int32)"
   ]
  },
  {
   "cell_type": "code",
   "execution_count": 9,
   "id": "2b1e4fed",
   "metadata": {
    "execution": {
     "iopub.execute_input": "2025-08-01T10:27:56.027704Z",
     "iopub.status.busy": "2025-08-01T10:27:56.027375Z",
     "iopub.status.idle": "2025-08-01T10:27:56.041088Z",
     "shell.execute_reply": "2025-08-01T10:27:56.039888Z"
    },
    "papermill": {
     "duration": 0.022173,
     "end_time": "2025-08-01T10:27:56.043092",
     "exception": false,
     "start_time": "2025-08-01T10:27:56.020919",
     "status": "completed"
    },
    "tags": []
   },
   "outputs": [
    {
     "name": "stdout",
     "output_type": "stream",
     "text": [
      "Tensor:\n",
      " tf.Tensor(\n",
      "[[[[255]\n",
      "   [  0]\n",
      "   [127]]\n",
      "\n",
      "  [[255]\n",
      "   [  0]\n",
      "   [127]]\n",
      "\n",
      "  [[255]\n",
      "   [  0]\n",
      "   [127]]]\n",
      "\n",
      "\n",
      " [[[255]\n",
      "   [  0]\n",
      "   [127]]\n",
      "\n",
      "  [[255]\n",
      "   [  0]\n",
      "   [127]]\n",
      "\n",
      "  [[255]\n",
      "   [  0]\n",
      "   [127]]]], shape=(2, 3, 3, 1), dtype=uint8)\n",
      "Shape: (2, 3, 3, 1)\n",
      "Data Type: <dtype: 'uint8'>\n",
      "Rank: 4\n",
      "Reshaped Tensor:\n",
      " tf.Tensor(\n",
      "[[255   0 127 255   0 127 255   0 127]\n",
      " [255   0 127 255   0 127 255   0 127]], shape=(2, 9), dtype=uint8)\n",
      "New Shape: (2, 9)\n"
     ]
    }
   ],
   "source": [
    "import tensorflow as tf\n",
    "\n",
    "# Creating a 3-D tensor (batch of 2 images, 3x3 pixels, 1 channel)\n",
    "tensor = tf.constant([\n",
    "    [[[255], [0], [127]],\n",
    "     [[255], [0], [127]],\n",
    "     [[255], [0], [127]]],\n",
    "    \n",
    "    [[[255], [0], [127]],\n",
    "     [[255], [0], [127]],\n",
    "     [[255], [0], [127]]]\n",
    "], dtype=tf.uint8)\n",
    "\n",
    "print(\"Tensor:\\n\", tensor)\n",
    "print(\"Shape:\", tensor.shape)\n",
    "print(\"Data Type:\", tensor.dtype)\n",
    "print(\"Rank:\", tf.rank(tensor).numpy())\n",
    "\n",
    "# Reshaping the tensor to flatten the images\n",
    "reshaped_tensor = tf.reshape(tensor, (2, 9))\n",
    "print(\"Reshaped Tensor:\\n\", reshaped_tensor)\n",
    "print(\"New Shape:\", reshaped_tensor.shape)"
   ]
  },
  {
   "cell_type": "markdown",
   "id": "8a231665",
   "metadata": {
    "papermill": {
     "duration": 0.005589,
     "end_time": "2025-08-01T10:27:56.054426",
     "exception": false,
     "start_time": "2025-08-01T10:27:56.048837",
     "status": "completed"
    },
    "tags": []
   },
   "source": [
    "# **Understanding Tensors**"
   ]
  },
  {
   "cell_type": "code",
   "execution_count": 10,
   "id": "0605d149",
   "metadata": {
    "execution": {
     "iopub.execute_input": "2025-08-01T10:27:56.067206Z",
     "iopub.status.busy": "2025-08-01T10:27:56.066906Z",
     "iopub.status.idle": "2025-08-01T10:27:56.092817Z",
     "shell.execute_reply": "2025-08-01T10:27:56.091376Z"
    },
    "papermill": {
     "duration": 0.033972,
     "end_time": "2025-08-01T10:27:56.094472",
     "exception": false,
     "start_time": "2025-08-01T10:27:56.060500",
     "status": "completed"
    },
    "tags": []
   },
   "outputs": [
    {
     "name": "stdout",
     "output_type": "stream",
     "text": [
      "tf.Tensor([5 7 9], shape=(3,), dtype=int32)\n",
      "tf.Tensor([-3 -3 -3], shape=(3,), dtype=int32)\n",
      "tf.Tensor([ 4 10 18], shape=(3,), dtype=int32)\n",
      "tf.Tensor([4.  2.5 2. ], shape=(3,), dtype=float64)\n"
     ]
    }
   ],
   "source": [
    "a = tf.constant([1, 2, 3])\n",
    "b = tf.constant([4, 5, 6])\n",
    "c = tf.add(a, b)\n",
    "print(c)  \n",
    "\n",
    "c = tf.subtract(a, b)\n",
    "print(c)  \n",
    "\n",
    "c = tf.multiply(a, b)\n",
    "print(c)  \n",
    "\n",
    "c = tf.divide(b, a)\n",
    "print(c) "
   ]
  },
  {
   "cell_type": "code",
   "execution_count": 11,
   "id": "1d5b1d39",
   "metadata": {
    "execution": {
     "iopub.execute_input": "2025-08-01T10:27:56.109092Z",
     "iopub.status.busy": "2025-08-01T10:27:56.108790Z",
     "iopub.status.idle": "2025-08-01T10:27:56.121722Z",
     "shell.execute_reply": "2025-08-01T10:27:56.120614Z"
    },
    "papermill": {
     "duration": 0.022452,
     "end_time": "2025-08-01T10:27:56.123494",
     "exception": false,
     "start_time": "2025-08-01T10:27:56.101042",
     "status": "completed"
    },
    "tags": []
   },
   "outputs": [
    {
     "name": "stdout",
     "output_type": "stream",
     "text": [
      "tf.Tensor(\n",
      "[[19 22]\n",
      " [43 50]], shape=(2, 2), dtype=int32)\n",
      "tf.Tensor(\n",
      "[[1 3]\n",
      " [2 4]], shape=(2, 2), dtype=int32)\n"
     ]
    }
   ],
   "source": [
    "matrix1 = tf.constant([[1, 2], [3, 4]])\n",
    "matrix2 = tf.constant([[5, 6], [7, 8]])\n",
    "product = tf.matmul(matrix1, matrix2)\n",
    "print(product)\n",
    "\n",
    "transposed = tf.transpose(matrix1)\n",
    "print(transposed)"
   ]
  },
  {
   "cell_type": "code",
   "execution_count": 12,
   "id": "24967131",
   "metadata": {
    "execution": {
     "iopub.execute_input": "2025-08-01T10:27:56.136180Z",
     "iopub.status.busy": "2025-08-01T10:27:56.135895Z",
     "iopub.status.idle": "2025-08-01T10:27:56.142720Z",
     "shell.execute_reply": "2025-08-01T10:27:56.141708Z"
    },
    "papermill": {
     "duration": 0.015048,
     "end_time": "2025-08-01T10:27:56.144386",
     "exception": false,
     "start_time": "2025-08-01T10:27:56.129338",
     "status": "completed"
    },
    "tags": []
   },
   "outputs": [
    {
     "name": "stdout",
     "output_type": "stream",
     "text": [
      "Original Shape: (2, 3)\n",
      "Reshaped Tensor:\n",
      " tf.Tensor(\n",
      "[[1 2]\n",
      " [3 4]\n",
      " [5 6]], shape=(3, 2), dtype=int32)\n",
      "New Shape: (3, 2)\n"
     ]
    }
   ],
   "source": [
    "import tensorflow as tf\n",
    "\n",
    "tensor = tf.constant([[1, 2, 3], [4, 5, 6]])\n",
    "print(\"Original Shape:\", tensor.shape)  \n",
    "\n",
    "reshaped = tf.reshape(tensor, (3, 2))\n",
    "print(\"Reshaped Tensor:\\n\", reshaped)\n",
    "print(\"New Shape:\", reshaped.shape)  "
   ]
  },
  {
   "cell_type": "code",
   "execution_count": 13,
   "id": "43e03d35",
   "metadata": {
    "execution": {
     "iopub.execute_input": "2025-08-01T10:27:56.156787Z",
     "iopub.status.busy": "2025-08-01T10:27:56.156454Z",
     "iopub.status.idle": "2025-08-01T10:27:56.169708Z",
     "shell.execute_reply": "2025-08-01T10:27:56.168591Z"
    },
    "papermill": {
     "duration": 0.021096,
     "end_time": "2025-08-01T10:27:56.171097",
     "exception": false,
     "start_time": "2025-08-01T10:27:56.150001",
     "status": "completed"
    },
    "tags": []
   },
   "outputs": [
    {
     "name": "stdout",
     "output_type": "stream",
     "text": [
      "Sliced Tensor:\n",
      " tf.Tensor(\n",
      "[[[1 2]\n",
      "  [3 4]]\n",
      "\n",
      " [[5 6]\n",
      "  [7 8]]], shape=(2, 2, 2), dtype=int32)\n",
      "Specific Element: tf.Tensor(8, shape=(), dtype=int32)\n"
     ]
    }
   ],
   "source": [
    "tensor = tf.constant([\n",
    "    [[1, 2], [3, 4]],\n",
    "    [[5, 6], [7, 8]],\n",
    "    [[9, 10], [11, 12]]\n",
    "])\n",
    "\n",
    "sliced = tensor[:2]\n",
    "print(\"Sliced Tensor:\\n\", sliced)\n",
    "\n",
    "element = tensor[1, 1, 1]\n",
    "print(\"Specific Element:\", element) #output=8"
   ]
  },
  {
   "cell_type": "code",
   "execution_count": 14,
   "id": "d57d5d6e",
   "metadata": {
    "execution": {
     "iopub.execute_input": "2025-08-01T10:27:56.183368Z",
     "iopub.status.busy": "2025-08-01T10:27:56.183030Z",
     "iopub.status.idle": "2025-08-01T10:27:56.193216Z",
     "shell.execute_reply": "2025-08-01T10:27:56.192188Z"
    },
    "papermill": {
     "duration": 0.018096,
     "end_time": "2025-08-01T10:27:56.194881",
     "exception": false,
     "start_time": "2025-08-01T10:27:56.176785",
     "status": "completed"
    },
    "tags": []
   },
   "outputs": [
    {
     "name": "stdout",
     "output_type": "stream",
     "text": [
      "Broadcasted Tensor:\n",
      " tf.Tensor(\n",
      "[[11 21 31 41]\n",
      " [12 22 32 42]\n",
      " [13 23 33 43]], shape=(3, 4), dtype=int32)\n"
     ]
    }
   ],
   "source": [
    "# Tensor A of shape (3, 1)\n",
    "A = tf.constant([[1], [2], [3]])\n",
    "\n",
    "# Tensor B of shape (1, 4)\n",
    "B = tf.constant([[10, 20, 30, 40]])\n",
    "\n",
    "# Broadcasting to shape (3, 4)\n",
    "C = A + B\n",
    "print(\"Broadcasted Tensor:\\n\", C)"
   ]
  },
  {
   "cell_type": "code",
   "execution_count": 15,
   "id": "9eb6547a",
   "metadata": {
    "execution": {
     "iopub.execute_input": "2025-08-01T10:27:56.207502Z",
     "iopub.status.busy": "2025-08-01T10:27:56.207188Z",
     "iopub.status.idle": "2025-08-01T10:27:56.225860Z",
     "shell.execute_reply": "2025-08-01T10:27:56.224729Z"
    },
    "papermill": {
     "duration": 0.027087,
     "end_time": "2025-08-01T10:27:56.227647",
     "exception": false,
     "start_time": "2025-08-01T10:27:56.200560",
     "status": "completed"
    },
    "tags": []
   },
   "outputs": [
    {
     "name": "stdout",
     "output_type": "stream",
     "text": [
      "Sum All: tf.Tensor(10, shape=(), dtype=int32)\n",
      "Sum Axis 0: tf.Tensor([4 6], shape=(2,), dtype=int32)\n",
      "Sum Axis 1: tf.Tensor([3 7], shape=(2,), dtype=int32)\n",
      "Mean All: tf.Tensor(2, shape=(), dtype=int32)\n",
      "Max All: tf.Tensor(4, shape=(), dtype=int32)\n"
     ]
    }
   ],
   "source": [
    "tensor = tf.constant([[1, 2], [3, 4]])\n",
    "sum_all = tf.reduce_sum(tensor)\n",
    "sum_axis0 = tf.reduce_sum(tensor, axis=0)\n",
    "sum_axis1 = tf.reduce_sum(tensor, axis=1)\n",
    "print(\"Sum All:\", sum_all)           # 10\n",
    "print(\"Sum Axis 0:\", sum_axis0)     # [4, 6]\n",
    "print(\"Sum Axis 1:\", sum_axis1)     # [3, 7]\n",
    "\n",
    "mean_all = tf.reduce_mean(tensor)\n",
    "print(\"Mean All:\", mean_all)  \n",
    "\n",
    "max_all = tf.reduce_max(tensor)\n",
    "print(\"Max All:\", max_all)  "
   ]
  },
  {
   "cell_type": "code",
   "execution_count": 16,
   "id": "f5a1c945",
   "metadata": {
    "execution": {
     "iopub.execute_input": "2025-08-01T10:27:56.240292Z",
     "iopub.status.busy": "2025-08-01T10:27:56.239923Z",
     "iopub.status.idle": "2025-08-01T10:27:56.247548Z",
     "shell.execute_reply": "2025-08-01T10:27:56.246594Z"
    },
    "papermill": {
     "duration": 0.015739,
     "end_time": "2025-08-01T10:27:56.249115",
     "exception": false,
     "start_time": "2025-08-01T10:27:56.233376",
     "status": "completed"
    },
    "tags": []
   },
   "outputs": [
    {
     "name": "stdout",
     "output_type": "stream",
     "text": [
      "Expanded Tensor Shape: (2, 3, 1)\n",
      "Squeezed Tensor Shape: (2, 3)\n"
     ]
    }
   ],
   "source": [
    "# Original tensor of shape (2, 3)\n",
    "tensor = tf.constant([[1, 2, 3], [4, 5, 6]])\n",
    "\n",
    "# Adding a new axis to make it (2, 3, 1)\n",
    "expanded = tf.expand_dims(tensor, axis=-1)\n",
    "print(\"Expanded Tensor Shape:\", expanded.shape)  # (2, 3, 1)\n",
    "\n",
    "# Removing the added axis\n",
    "squeezed = tf.squeeze(expanded, axis=-1)\n",
    "print(\"Squeezed Tensor Shape:\", squeezed.shape)  # (2, 3)"
   ]
  },
  {
   "cell_type": "code",
   "execution_count": 17,
   "id": "4cbc084b",
   "metadata": {
    "execution": {
     "iopub.execute_input": "2025-08-01T10:27:56.262123Z",
     "iopub.status.busy": "2025-08-01T10:27:56.261803Z",
     "iopub.status.idle": "2025-08-01T10:27:56.273864Z",
     "shell.execute_reply": "2025-08-01T10:27:56.272756Z"
    },
    "papermill": {
     "duration": 0.020349,
     "end_time": "2025-08-01T10:27:56.275490",
     "exception": false,
     "start_time": "2025-08-01T10:27:56.255141",
     "status": "completed"
    },
    "tags": []
   },
   "outputs": [
    {
     "name": "stdout",
     "output_type": "stream",
     "text": [
      "Concatenated along axis 0:\n",
      " tf.Tensor(\n",
      "[[1 2]\n",
      " [3 4]\n",
      " [5 6]\n",
      " [7 8]], shape=(4, 2), dtype=int32)\n",
      "Concatenated along axis 1:\n",
      " tf.Tensor(\n",
      "[[1 2 5 6]\n",
      " [3 4 7 8]], shape=(2, 4), dtype=int32)\n",
      "Stacked Tensor:\n",
      " tf.Tensor(\n",
      "[[[1 2]\n",
      "  [3 4]]\n",
      "\n",
      " [[5 6]\n",
      "  [7 8]]], shape=(2, 2, 2), dtype=int32)\n",
      "Stacked Shape: (2, 2, 2)\n"
     ]
    }
   ],
   "source": [
    "tensor1 = tf.constant([[1, 2], [3, 4]])\n",
    "tensor2 = tf.constant([[5, 6], [7, 8]])\n",
    "\n",
    "# Concatenate along axis 0\n",
    "concat_axis0 = tf.concat([tensor1, tensor2], axis=0)\n",
    "print(\"Concatenated along axis 0:\\n\", concat_axis0)\n",
    "\n",
    "# Concatenate along axis 1\n",
    "concat_axis1 = tf.concat([tensor1, tensor2], axis=1)\n",
    "print(\"Concatenated along axis 1:\\n\", concat_axis1)\n",
    "\n",
    "# Stack tensors along a new axis\n",
    "stacked = tf.stack([tensor1, tensor2], axis=0)\n",
    "print(\"Stacked Tensor:\\n\", stacked)\n",
    "print(\"Stacked Shape:\", stacked.shape)  # (2, 2, 2)"
   ]
  },
  {
   "cell_type": "code",
   "execution_count": 18,
   "id": "91638362",
   "metadata": {
    "execution": {
     "iopub.execute_input": "2025-08-01T10:27:56.288628Z",
     "iopub.status.busy": "2025-08-01T10:27:56.288300Z",
     "iopub.status.idle": "2025-08-01T10:27:56.306288Z",
     "shell.execute_reply": "2025-08-01T10:27:56.305096Z"
    },
    "papermill": {
     "duration": 0.0266,
     "end_time": "2025-08-01T10:27:56.308113",
     "exception": false,
     "start_time": "2025-08-01T10:27:56.281513",
     "status": "completed"
    },
    "tags": []
   },
   "outputs": [
    {
     "name": "stdout",
     "output_type": "stream",
     "text": [
      "One-Hot Encoded Tensor:\n",
      " tf.Tensor(\n",
      "[[1. 0. 0.]\n",
      " [0. 1. 0.]\n",
      " [0. 0. 1.]\n",
      " [0. 1. 0.]], shape=(4, 3), dtype=float32)\n",
      "Inverse of Matrix:\n",
      " tf.Tensor(\n",
      "[[-2.0000002   1.0000001 ]\n",
      " [ 1.5000001  -0.50000006]], shape=(2, 2), dtype=float32)\n",
      "Eigenvalues: tf.Tensor([-0.37228122+0.j  5.372281  +0.j], shape=(2,), dtype=complex64)\n",
      "Eigenvectors:\n",
      " tf.Tensor(\n",
      "[[-0.8245648 +0.j -0.41597357+0.j]\n",
      " [ 0.56576747+0.j -0.90937674+0.j]], shape=(2, 2), dtype=complex64)\n"
     ]
    }
   ],
   "source": [
    "indices = tf.constant([0, 1, 2, 1])\n",
    "depth = 3\n",
    "one_hot = tf.one_hot(indices, depth)\n",
    "print(\"One-Hot Encoded Tensor:\\n\", one_hot)\n",
    "\n",
    "matrix = tf.constant([[1., 2.], [3., 4.]])\n",
    "inverse = tf.linalg.inv(matrix)\n",
    "print(\"Inverse of Matrix:\\n\", inverse)\n",
    "\n",
    "matrix = tf.constant([[1., 2.], [3., 4.]])\n",
    "eigenvalues, eigenvectors = tf.linalg.eig(matrix)\n",
    "print(\"Eigenvalues:\", eigenvalues)\n",
    "print(\"Eigenvectors:\\n\", eigenvectors)"
   ]
  },
  {
   "cell_type": "code",
   "execution_count": 19,
   "id": "725e4b0e",
   "metadata": {
    "execution": {
     "iopub.execute_input": "2025-08-01T10:27:56.321706Z",
     "iopub.status.busy": "2025-08-01T10:27:56.321157Z",
     "iopub.status.idle": "2025-08-01T10:27:56.335935Z",
     "shell.execute_reply": "2025-08-01T10:27:56.334708Z"
    },
    "papermill": {
     "duration": 0.023772,
     "end_time": "2025-08-01T10:27:56.338016",
     "exception": false,
     "start_time": "2025-08-01T10:27:56.314244",
     "status": "completed"
    },
    "tags": []
   },
   "outputs": [
    {
     "name": "stdout",
     "output_type": "stream",
     "text": [
      "Addition:\n",
      " tf.Tensor(\n",
      "[[ 6  8]\n",
      " [10 12]], shape=(2, 2), dtype=int32)\n",
      "Element-Wise Multiplication:\n",
      " tf.Tensor(\n",
      "[[ 5 12]\n",
      " [21 32]], shape=(2, 2), dtype=int32)\n",
      "Matrix Product:\n",
      " tf.Tensor(\n",
      "[[19 22]\n",
      " [43 50]], shape=(2, 2), dtype=int32)\n",
      "Reshaped Tensor:\n",
      " tf.Tensor(\n",
      "[[1]\n",
      " [2]\n",
      " [3]\n",
      " [4]], shape=(4, 1), dtype=int32)\n",
      "Sliced Tensor: tf.Tensor([2 4], shape=(2,), dtype=int32)\n",
      "Sum of All Elements: tf.Tensor(10, shape=(), dtype=int32)\n"
     ]
    }
   ],
   "source": [
    "import tensorflow as tf\n",
    "\n",
    "# Creating two tensors\n",
    "a = tf.constant([[1, 2], [3, 4]])\n",
    "b = tf.constant([[5, 6], [7, 8]])\n",
    "\n",
    "# Arithmetic Operations\n",
    "addition = a + b\n",
    "multiplication = a * b\n",
    "matrix_product = tf.matmul(a, b)\n",
    "\n",
    "print(\"Addition:\\n\", addition)\n",
    "print(\"Element-Wise Multiplication:\\n\", multiplication)\n",
    "print(\"Matrix Product:\\n\", matrix_product)\n",
    "\n",
    "# Reshaping\n",
    "reshaped = tf.reshape(a, (4, 1))\n",
    "print(\"Reshaped Tensor:\\n\", reshaped)\n",
    "\n",
    "# Slicing\n",
    "sliced = a[:, 1]\n",
    "print(\"Sliced Tensor:\", sliced)\n",
    "\n",
    "# Reduction\n",
    "sum_all = tf.reduce_sum(a)\n",
    "print(\"Sum of All Elements:\", sum_all)"
   ]
  },
  {
   "cell_type": "markdown",
   "id": "ae20d2b2",
   "metadata": {
    "papermill": {
     "duration": 0.00696,
     "end_time": "2025-08-01T10:27:56.351986",
     "exception": false,
     "start_time": "2025-08-01T10:27:56.345026",
     "status": "completed"
    },
    "tags": []
   },
   "source": [
    "# **Computational Graphs**"
   ]
  },
  {
   "cell_type": "code",
   "execution_count": 20,
   "id": "91a03252",
   "metadata": {
    "execution": {
     "iopub.execute_input": "2025-08-01T10:27:56.366483Z",
     "iopub.status.busy": "2025-08-01T10:27:56.365990Z",
     "iopub.status.idle": "2025-08-01T10:27:56.374513Z",
     "shell.execute_reply": "2025-08-01T10:27:56.372779Z"
    },
    "papermill": {
     "duration": 0.018916,
     "end_time": "2025-08-01T10:27:56.377135",
     "exception": false,
     "start_time": "2025-08-01T10:27:56.358219",
     "status": "completed"
    },
    "tags": []
   },
   "outputs": [
    {
     "data": {
      "text/plain": [
       "'\\nimport tensorflow as tf\\n\\n# Define the computational graph\\na = tf.placeholder(tf.float32)\\nb = tf.placeholder(tf.float32)\\nc = a + b\\n\\n# Create a session to run the graph\\nwith tf.Session() as sess:\\n    result = sess.run(c, feed_dict={a: 2.0, b: 3.0})\\n    print(\"Result:\", result)  # Output: Result: 5.0\\n'"
      ]
     },
     "execution_count": 20,
     "metadata": {},
     "output_type": "execute_result"
    }
   ],
   "source": [
    "# static computational graph (TensorFlow 1.x), this code doesn't run in new 2.x version\n",
    "'''\n",
    "import tensorflow as tf\n",
    "\n",
    "# Define the computational graph\n",
    "a = tf.placeholder(tf.float32)\n",
    "b = tf.placeholder(tf.float32)\n",
    "c = a + b\n",
    "\n",
    "# Create a session to run the graph\n",
    "with tf.Session() as sess:\n",
    "    result = sess.run(c, feed_dict={a: 2.0, b: 3.0})\n",
    "    print(\"Result:\", result)  # Output: Result: 5.0\n",
    "'''"
   ]
  },
  {
   "cell_type": "code",
   "execution_count": 21,
   "id": "a29071a0",
   "metadata": {
    "execution": {
     "iopub.execute_input": "2025-08-01T10:27:56.393562Z",
     "iopub.status.busy": "2025-08-01T10:27:56.393217Z",
     "iopub.status.idle": "2025-08-01T10:27:56.402249Z",
     "shell.execute_reply": "2025-08-01T10:27:56.400464Z"
    },
    "papermill": {
     "duration": 0.019348,
     "end_time": "2025-08-01T10:27:56.404303",
     "exception": false,
     "start_time": "2025-08-01T10:27:56.384955",
     "status": "completed"
    },
    "tags": []
   },
   "outputs": [
    {
     "name": "stdout",
     "output_type": "stream",
     "text": [
      "Result: 5.0\n"
     ]
    }
   ],
   "source": [
    "# static computational graph (TensorFlow 2.x), see this runs\n",
    "\n",
    "import tensorflow as tf\n",
    "\n",
    "# Define and execute operations on-the-fly\n",
    "a = tf.constant(2.0)\n",
    "b = tf.constant(3.0)\n",
    "c = a + b\n",
    "print(\"Result:\", c.numpy())  # Output: Result: 5.0"
   ]
  },
  {
   "cell_type": "code",
   "execution_count": 22,
   "id": "360029f7",
   "metadata": {
    "execution": {
     "iopub.execute_input": "2025-08-01T10:27:56.421196Z",
     "iopub.status.busy": "2025-08-01T10:27:56.420887Z",
     "iopub.status.idle": "2025-08-01T10:27:56.508311Z",
     "shell.execute_reply": "2025-08-01T10:27:56.507382Z"
    },
    "papermill": {
     "duration": 0.098838,
     "end_time": "2025-08-01T10:27:56.509951",
     "exception": false,
     "start_time": "2025-08-01T10:27:56.411113",
     "status": "completed"
    },
    "tags": []
   },
   "outputs": [
    {
     "name": "stdout",
     "output_type": "stream",
     "text": [
      "Result: 5.0\n"
     ]
    }
   ],
   "source": [
    "import tensorflow as tf\n",
    "\n",
    "@tf.function         #decorator used to convert python function into static graph for performance optimization\n",
    "def add(a, b):\n",
    "    return a + b\n",
    "\n",
    "a = tf.constant(2.0)\n",
    "b = tf.constant(3.0)\n",
    "\n",
    "# Execute the function  (still providing the flexibility to define and execute functions imperatively)\n",
    "result = add(a, b)       \n",
    "print(\"Result:\", result.numpy())  "
   ]
  },
  {
   "cell_type": "code",
   "execution_count": 23,
   "id": "79cb8df1",
   "metadata": {
    "execution": {
     "iopub.execute_input": "2025-08-01T10:27:56.525635Z",
     "iopub.status.busy": "2025-08-01T10:27:56.524380Z",
     "iopub.status.idle": "2025-08-01T10:27:58.446082Z",
     "shell.execute_reply": "2025-08-01T10:27:58.444925Z"
    },
    "papermill": {
     "duration": 1.932247,
     "end_time": "2025-08-01T10:27:58.448491",
     "exception": false,
     "start_time": "2025-08-01T10:27:56.516244",
     "status": "completed"
    },
    "tags": []
   },
   "outputs": [
    {
     "name": "stdout",
     "output_type": "stream",
     "text": [
      "Epoch 1/5\n",
      "\u001b[1m4/4\u001b[0m \u001b[32m━━━━━━━━━━━━━━━━━━━━\u001b[0m\u001b[37m\u001b[0m \u001b[1m1s\u001b[0m 11ms/step - loss: 0.7166\n",
      "Epoch 2/5\n",
      "\u001b[1m4/4\u001b[0m \u001b[32m━━━━━━━━━━━━━━━━━━━━\u001b[0m\u001b[37m\u001b[0m \u001b[1m0s\u001b[0m 9ms/step - loss: 0.6897 \n",
      "Epoch 3/5\n",
      "\u001b[1m4/4\u001b[0m \u001b[32m━━━━━━━━━━━━━━━━━━━━\u001b[0m\u001b[37m\u001b[0m \u001b[1m0s\u001b[0m 9ms/step - loss: 0.6566 \n",
      "Epoch 4/5\n",
      "\u001b[1m4/4\u001b[0m \u001b[32m━━━━━━━━━━━━━━━━━━━━\u001b[0m\u001b[37m\u001b[0m \u001b[1m0s\u001b[0m 9ms/step - loss: 0.6213 \n",
      "Epoch 5/5\n",
      "\u001b[1m4/4\u001b[0m \u001b[32m━━━━━━━━━━━━━━━━━━━━\u001b[0m\u001b[37m\u001b[0m \u001b[1m0s\u001b[0m 9ms/step - loss: 0.6019 \n",
      "\u001b[1m1/1\u001b[0m \u001b[32m━━━━━━━━━━━━━━━━━━━━\u001b[0m\u001b[37m\u001b[0m \u001b[1m0s\u001b[0m 78ms/step\n",
      "Prediction: [[0.08081713]]\n"
     ]
    }
   ],
   "source": [
    "import tensorflow as tf\n",
    "import numpy as np\n",
    "\n",
    "# Define a simple sequential model using Input layer\n",
    "model = tf.keras.Sequential([\n",
    "    tf.keras.Input(shape=(5,)),\n",
    "    tf.keras.layers.Dense(10, activation='relu'),\n",
    "    tf.keras.layers.Dense(1)\n",
    "])\n",
    "\n",
    "# Compile the model\n",
    "model.compile(optimizer='adam', loss='mean_squared_error')\n",
    "\n",
    "# Generate dummy data\n",
    "X = np.random.rand(100, 5)\n",
    "y = np.random.rand(100, 1)\n",
    "\n",
    "# Train the model\n",
    "model.fit(X, y, epochs=5)\n",
    "\n",
    "# Make a prediction\n",
    "prediction = model.predict(np.random.rand(1, 5))\n",
    "print(\"Prediction:\", prediction)\n"
   ]
  },
  {
   "cell_type": "markdown",
   "id": "a47c047c",
   "metadata": {
    "papermill": {
     "duration": 0.007565,
     "end_time": "2025-08-01T10:27:58.465035",
     "exception": false,
     "start_time": "2025-08-01T10:27:58.457470",
     "status": "completed"
    },
    "tags": []
   },
   "source": [
    "# **Core TensorFlow Concepts**"
   ]
  },
  {
   "cell_type": "code",
   "execution_count": 24,
   "id": "0d3f167f",
   "metadata": {
    "execution": {
     "iopub.execute_input": "2025-08-01T10:27:58.481298Z",
     "iopub.status.busy": "2025-08-01T10:27:58.480964Z",
     "iopub.status.idle": "2025-08-01T10:27:58.487616Z",
     "shell.execute_reply": "2025-08-01T10:27:58.486404Z"
    },
    "papermill": {
     "duration": 0.017168,
     "end_time": "2025-08-01T10:27:58.489165",
     "exception": false,
     "start_time": "2025-08-01T10:27:58.471997",
     "status": "completed"
    },
    "tags": []
   },
   "outputs": [
    {
     "name": "stdout",
     "output_type": "stream",
     "text": [
      "Constant Tensor: tf.Tensor([1 2 3], shape=(3,), dtype=int32)\n"
     ]
    }
   ],
   "source": [
    "import tensorflow as tf\n",
    "\n",
    "# Creating a constant tensor\n",
    "const_tensor = tf.constant([1, 2, 3], dtype=tf.int32)\n",
    "print(\"Constant Tensor:\", const_tensor)"
   ]
  },
  {
   "cell_type": "code",
   "execution_count": 25,
   "id": "3a8a4d53",
   "metadata": {
    "execution": {
     "iopub.execute_input": "2025-08-01T10:27:58.505567Z",
     "iopub.status.busy": "2025-08-01T10:27:58.505207Z",
     "iopub.status.idle": "2025-08-01T10:27:58.516771Z",
     "shell.execute_reply": "2025-08-01T10:27:58.515738Z"
    },
    "papermill": {
     "duration": 0.02137,
     "end_time": "2025-08-01T10:27:58.518291",
     "exception": false,
     "start_time": "2025-08-01T10:27:58.496921",
     "status": "completed"
    },
    "tags": []
   },
   "outputs": [
    {
     "name": "stdout",
     "output_type": "stream",
     "text": [
      "Variable Tensor: <tf.Variable 'Variable:0' shape=(3,) dtype=float32, numpy=array([1., 2., 3.], dtype=float32)>\n"
     ]
    }
   ],
   "source": [
    "# Creating a variable tensor\n",
    "var_tensor = tf.Variable([1.0, 2.0, 3.0], dtype=tf.float32)\n",
    "print(\"Variable Tensor:\", var_tensor)"
   ]
  },
  {
   "cell_type": "code",
   "execution_count": 26,
   "id": "0ce63018",
   "metadata": {
    "execution": {
     "iopub.execute_input": "2025-08-01T10:27:58.533857Z",
     "iopub.status.busy": "2025-08-01T10:27:58.533508Z",
     "iopub.status.idle": "2025-08-01T10:27:58.563749Z",
     "shell.execute_reply": "2025-08-01T10:27:58.562761Z"
    },
    "papermill": {
     "duration": 0.040076,
     "end_time": "2025-08-01T10:27:58.565536",
     "exception": false,
     "start_time": "2025-08-01T10:27:58.525460",
     "status": "completed"
    },
    "tags": []
   },
   "outputs": [],
   "source": [
    "#initialization\n",
    "\n",
    "# Initializing a variable with zeros\n",
    "var_zero = tf.Variable(tf.zeros([2, 3]), name='zero_initializer')\n",
    "\n",
    "# Initializing a variable with random values\n",
    "var_random = tf.Variable(tf.random.normal([2, 3]), name='random_initializer')\n",
    "\n",
    "#naming\n",
    "\n",
    "weight = tf.Variable(tf.random.normal([784, 256]), name='weights')\n",
    "bias = tf.constant([0.1] * 256, dtype=tf.float32, name='biases')\n",
    "\n",
    "#scope management\n",
    "\n",
    "with tf.name_scope('layer1'):\n",
    "    weights = tf.Variable(tf.random.normal([784, 256]), name='weights')\n",
    "    biases = tf.constant([0.1] * 256, dtype=tf.float32, name='biases')\n",
    "\n",
    "#use variables to avoid unnecessary memory usage"
   ]
  },
  {
   "cell_type": "code",
   "execution_count": 27,
   "id": "e34efde1",
   "metadata": {
    "execution": {
     "iopub.execute_input": "2025-08-01T10:27:58.582133Z",
     "iopub.status.busy": "2025-08-01T10:27:58.581791Z",
     "iopub.status.idle": "2025-08-01T10:28:03.928179Z",
     "shell.execute_reply": "2025-08-01T10:28:03.927056Z"
    },
    "papermill": {
     "duration": 5.356922,
     "end_time": "2025-08-01T10:28:03.929856",
     "exception": false,
     "start_time": "2025-08-01T10:27:58.572934",
     "status": "completed"
    },
    "tags": []
   },
   "outputs": [
    {
     "name": "stdout",
     "output_type": "stream",
     "text": [
      "Epoch 0: Loss = 30.0, W = [[0.29999998]], b = [0.09999999]\n",
      "Epoch 100: Loss = 0.03408462926745415, W = [[1.8468075]], b = [0.45040485]\n",
      "Epoch 200: Loss = 0.01871202513575554, W = [[1.8864939]], b = [0.33372158]\n",
      "Epoch 300: Loss = 0.010272667743265629, W = [[1.9158992]], b = [0.24726659]\n",
      "Epoch 400: Loss = 0.005639577750116587, W = [[1.9376867]], b = [0.18320896]\n",
      "Epoch 500: Loss = 0.0030960547737777233, W = [[1.9538298]], b = [0.13574634]\n",
      "Epoch 600: Loss = 0.001699708285741508, W = [[1.9657906]], b = [0.10057957]\n",
      "Epoch 700: Loss = 0.0009331251494586468, W = [[1.974653]], b = [0.0745233]\n",
      "Epoch 800: Loss = 0.0005122720031067729, W = [[1.9812194]], b = [0.05521719]\n",
      "Epoch 900: Loss = 0.00028123249649070203, W = [[1.9860847]], b = [0.04091255]\n",
      "Trained Weights: [[1.9896587]]\n",
      "Trained Bias: [0.03040474]\n"
     ]
    }
   ],
   "source": [
    "#building simple linear regression model using variables and constants\n",
    "\n",
    "import tensorflow as tf\n",
    "\n",
    "# Define Constants for input data\n",
    "X = tf.constant([[1.0], [2.0], [3.0], [4.0]], dtype=tf.float32)  # Input features\n",
    "Y = tf.constant([[2.0], [4.0], [6.0], [8.0]], dtype=tf.float32)  # Target values\n",
    "\n",
    "# Define Variables for model parameters (weights and bias)\n",
    "W = tf.Variable([[0.0]], dtype=tf.float32, name='weight')\n",
    "b = tf.Variable([0.0], dtype=tf.float32, name='bias')\n",
    "\n",
    "# Define the linear model\n",
    "def linear_model(X):\n",
    "    return tf.matmul(X, W) + b\n",
    "\n",
    "# Define the loss function (Mean Squared Error)\n",
    "def loss_fn(y_pred, y_true):\n",
    "    return tf.reduce_mean(tf.square(y_pred - y_true))\n",
    "\n",
    "# Define the optimizer\n",
    "optimizer = tf.optimizers.SGD(learning_rate=0.01)\n",
    "\n",
    "# Training loop\n",
    "for epoch in range(1000):\n",
    "    with tf.GradientTape() as tape:\n",
    "        y_pred = linear_model(X)\n",
    "        loss = loss_fn(y_pred, Y)\n",
    "    \n",
    "    # Compute gradients\n",
    "    gradients = tape.gradient(loss, [W, b])\n",
    "    \n",
    "    # Update variables\n",
    "    optimizer.apply_gradients(zip(gradients, [W, b]))\n",
    "    \n",
    "    if epoch % 100 == 0:\n",
    "        print(f\"Epoch {epoch}: Loss = {loss.numpy()}, W = {W.numpy()}, b = {b.numpy()}\")\n",
    "\n",
    "# Final model parameters\n",
    "print(\"Trained Weights:\", W.numpy())\n",
    "print(\"Trained Bias:\", b.numpy())"
   ]
  }
 ],
 "metadata": {
  "kaggle": {
   "accelerator": "none",
   "dataSources": [],
   "dockerImageVersionId": 31089,
   "isGpuEnabled": false,
   "isInternetEnabled": true,
   "language": "python",
   "sourceType": "notebook"
  },
  "kernelspec": {
   "display_name": "Python 3",
   "language": "python",
   "name": "python3"
  },
  "language_info": {
   "codemirror_mode": {
    "name": "ipython",
    "version": 3
   },
   "file_extension": ".py",
   "mimetype": "text/x-python",
   "name": "python",
   "nbconvert_exporter": "python",
   "pygments_lexer": "ipython3",
   "version": "3.11.13"
  },
  "papermill": {
   "default_parameters": {},
   "duration": 37.265644,
   "end_time": "2025-08-01T10:28:06.705223",
   "environment_variables": {},
   "exception": null,
   "input_path": "__notebook__.ipynb",
   "output_path": "__notebook__.ipynb",
   "parameters": {},
   "start_time": "2025-08-01T10:27:29.439579",
   "version": "2.6.0"
  }
 },
 "nbformat": 4,
 "nbformat_minor": 5
}
