{
 "cells": [
  {
   "cell_type": "code",
   "execution_count": 1,
   "id": "1cf8a9b2",
   "metadata": {
    "_cell_guid": "b1076dfc-b9ad-4769-8c92-a6c4dae69d19",
    "_uuid": "8f2839f25d086af736a60e9eeb907d3b93b6e0e5",
    "execution": {
     "iopub.execute_input": "2025-08-01T05:20:12.308338Z",
     "iopub.status.busy": "2025-08-01T05:20:12.307944Z",
     "iopub.status.idle": "2025-08-01T05:20:14.162821Z",
     "shell.execute_reply": "2025-08-01T05:20:14.161872Z"
    },
    "papermill": {
     "duration": 1.862738,
     "end_time": "2025-08-01T05:20:14.164629",
     "exception": false,
     "start_time": "2025-08-01T05:20:12.301891",
     "status": "completed"
    },
    "tags": []
   },
   "outputs": [],
   "source": [
    "import numpy as np # linear algebra\n",
    "import pandas as pd # data processing, CSV file I/O (e.g. pd.read_csv)\n",
    "\n",
    "import os\n",
    "for dirname, _, filenames in os.walk('/kaggle/input'):\n",
    "    for filename in filenames:\n",
    "        print(os.path.join(dirname, filename))"
   ]
  },
  {
   "cell_type": "code",
   "execution_count": 2,
   "id": "702e1c16",
   "metadata": {
    "execution": {
     "iopub.execute_input": "2025-08-01T05:20:14.175725Z",
     "iopub.status.busy": "2025-08-01T05:20:14.174431Z",
     "iopub.status.idle": "2025-08-01T05:20:31.933662Z",
     "shell.execute_reply": "2025-08-01T05:20:31.932708Z"
    },
    "papermill": {
     "duration": 17.766623,
     "end_time": "2025-08-01T05:20:31.935564",
     "exception": false,
     "start_time": "2025-08-01T05:20:14.168941",
     "status": "completed"
    },
    "tags": []
   },
   "outputs": [
    {
     "name": "stderr",
     "output_type": "stream",
     "text": [
      "WARNING: All log messages before absl::InitializeLog() is called are written to STDERR\n",
      "E0000 00:00:1754025616.254153      13 cuda_dnn.cc:8310] Unable to register cuDNN factory: Attempting to register factory for plugin cuDNN when one has already been registered\n",
      "E0000 00:00:1754025616.317022      13 cuda_blas.cc:1418] Unable to register cuBLAS factory: Attempting to register factory for plugin cuBLAS when one has already been registered\n"
     ]
    }
   ],
   "source": [
    "import os\n",
    "os.environ['TF_CPP_MIN_LOG_LEVEL'] = '3'  # 0 = all logs, 1 = filter INFO, 2 = filter WARNING, 3 = filter ERROR\n",
    "import tensorflow as tf\n",
    "\n",
    "\n",
    "scalar = tf.constant(5)\n",
    "vector = tf.constant([1, 2, 3])\n",
    "matrix = tf.constant([[1, 2, 3], [4, 5, 6]])"
   ]
  },
  {
   "cell_type": "code",
   "execution_count": 3,
   "id": "63a495d4",
   "metadata": {
    "execution": {
     "iopub.execute_input": "2025-08-01T05:20:31.945172Z",
     "iopub.status.busy": "2025-08-01T05:20:31.944595Z",
     "iopub.status.idle": "2025-08-01T05:20:31.957466Z",
     "shell.execute_reply": "2025-08-01T05:20:31.956489Z"
    },
    "papermill": {
     "duration": 0.01933,
     "end_time": "2025-08-01T05:20:31.959114",
     "exception": false,
     "start_time": "2025-08-01T05:20:31.939784",
     "status": "completed"
    },
    "tags": []
   },
   "outputs": [],
   "source": [
    "variable = tf.Variable([[1.0, 2.0], [3.0, 4.0]])"
   ]
  },
  {
   "cell_type": "code",
   "execution_count": 4,
   "id": "431310a8",
   "metadata": {
    "execution": {
     "iopub.execute_input": "2025-08-01T05:20:31.981964Z",
     "iopub.status.busy": "2025-08-01T05:20:31.981606Z",
     "iopub.status.idle": "2025-08-01T05:20:31.990032Z",
     "shell.execute_reply": "2025-08-01T05:20:31.988958Z"
    },
    "papermill": {
     "duration": 0.01557,
     "end_time": "2025-08-01T05:20:31.991845",
     "exception": false,
     "start_time": "2025-08-01T05:20:31.976275",
     "status": "completed"
    },
    "tags": []
   },
   "outputs": [],
   "source": [
    "random_tensor = tf.random.uniform(shape=(2, 3), minval=0, maxval=10, dtype=tf.int32)"
   ]
  },
  {
   "cell_type": "code",
   "execution_count": 5,
   "id": "71dcaea5",
   "metadata": {
    "execution": {
     "iopub.execute_input": "2025-08-01T05:20:32.000987Z",
     "iopub.status.busy": "2025-08-01T05:20:32.000572Z",
     "iopub.status.idle": "2025-08-01T05:20:32.008092Z",
     "shell.execute_reply": "2025-08-01T05:20:32.006904Z"
    },
    "papermill": {
     "duration": 0.013833,
     "end_time": "2025-08-01T05:20:32.009671",
     "exception": false,
     "start_time": "2025-08-01T05:20:31.995838",
     "status": "completed"
    },
    "tags": []
   },
   "outputs": [
    {
     "name": "stdout",
     "output_type": "stream",
     "text": [
      "Tensor:\n",
      " tf.Tensor(\n",
      "[[1 2 3]\n",
      " [4 5 6]], shape=(2, 3), dtype=int32)\n",
      "Shape: (2, 3)\n",
      "Data Type: <dtype: 'int32'>\n",
      "Rank: 2\n"
     ]
    }
   ],
   "source": [
    "import tensorflow as tf\n",
    "\n",
    "matrix = tf.constant([[1, 2, 3], [4, 5, 6]])\n",
    "\n",
    "print(\"Tensor:\\n\", matrix)\n",
    "print(\"Shape:\", matrix.shape)\n",
    "print(\"Data Type:\", matrix.dtype)\n",
    "print(\"Rank:\", tf.rank(matrix).numpy())"
   ]
  },
  {
   "cell_type": "code",
   "execution_count": 6,
   "id": "11969271",
   "metadata": {
    "execution": {
     "iopub.execute_input": "2025-08-01T05:20:32.019092Z",
     "iopub.status.busy": "2025-08-01T05:20:32.018713Z",
     "iopub.status.idle": "2025-08-01T05:20:32.034791Z",
     "shell.execute_reply": "2025-08-01T05:20:32.033637Z"
    },
    "papermill": {
     "duration": 0.022309,
     "end_time": "2025-08-01T05:20:32.036369",
     "exception": false,
     "start_time": "2025-08-01T05:20:32.014060",
     "status": "completed"
    },
    "tags": []
   },
   "outputs": [
    {
     "name": "stdout",
     "output_type": "stream",
     "text": [
      "Original shape: (2, 2, 2)\n",
      "Reshaped: (4, 2)\n",
      "Expanded: (1, 2, 2, 2)\n",
      "Squeezed: (2, 2, 2)\n",
      "Transposed: (2, 2, 2)\n"
     ]
    }
   ],
   "source": [
    "tensor = tf.constant([\n",
    "    [[1, 2], [3, 4]],\n",
    "    [[5, 6], [7, 8]]\n",
    "]) \n",
    "\n",
    "new_shape = (4, 2)  \n",
    "\n",
    "reshaped = tf.reshape(tensor, new_shape)\n",
    "expanded = tf.expand_dims(tensor, axis=0)\n",
    "squeezed = tf.squeeze(expanded, axis=0)  # Using 'expanded' here since original tensor wasn't actually squeezed\n",
    "transposed = tf.transpose(tensor, perm=[1, 0, 2])  # Swap first two axes\n",
    "\n",
    "print(\"Original shape:\", tensor.shape)\n",
    "print(\"Reshaped:\", reshaped.shape)\n",
    "print(\"Expanded:\", expanded.shape)\n",
    "print(\"Squeezed:\", squeezed.shape)\n",
    "print(\"Transposed:\", transposed.shape)\n"
   ]
  },
  {
   "cell_type": "code",
   "execution_count": 7,
   "id": "2961fef5",
   "metadata": {
    "execution": {
     "iopub.execute_input": "2025-08-01T05:20:32.045857Z",
     "iopub.status.busy": "2025-08-01T05:20:32.045428Z",
     "iopub.status.idle": "2025-08-01T05:20:32.052580Z",
     "shell.execute_reply": "2025-08-01T05:20:32.051498Z"
    },
    "papermill": {
     "duration": 0.013535,
     "end_time": "2025-08-01T05:20:32.054146",
     "exception": false,
     "start_time": "2025-08-01T05:20:32.040611",
     "status": "completed"
    },
    "tags": []
   },
   "outputs": [],
   "source": [
    "import tensorflow as tf\n",
    "\n",
    "float_tensor = tf.constant([1.0, 2.0, 3.0], dtype=tf.float32)\n",
    "int_tensor = tf.constant([1, 2, 3], dtype=tf.int32)\n",
    "bool_tensor = tf.constant([True, False, True], dtype=tf.bool)"
   ]
  },
  {
   "cell_type": "code",
   "execution_count": 8,
   "id": "5e49521d",
   "metadata": {
    "execution": {
     "iopub.execute_input": "2025-08-01T05:20:32.063564Z",
     "iopub.status.busy": "2025-08-01T05:20:32.063208Z",
     "iopub.status.idle": "2025-08-01T05:20:32.070090Z",
     "shell.execute_reply": "2025-08-01T05:20:32.069389Z"
    },
    "papermill": {
     "duration": 0.012958,
     "end_time": "2025-08-01T05:20:32.071505",
     "exception": false,
     "start_time": "2025-08-01T05:20:32.058547",
     "status": "completed"
    },
    "tags": []
   },
   "outputs": [],
   "source": [
    "casted_tensor = tf.cast(float_tensor, dtype=tf.int32)"
   ]
  },
  {
   "cell_type": "code",
   "execution_count": 9,
   "id": "7ab79caf",
   "metadata": {
    "execution": {
     "iopub.execute_input": "2025-08-01T05:20:32.081169Z",
     "iopub.status.busy": "2025-08-01T05:20:32.080375Z",
     "iopub.status.idle": "2025-08-01T05:20:32.091699Z",
     "shell.execute_reply": "2025-08-01T05:20:32.090557Z"
    },
    "papermill": {
     "duration": 0.017472,
     "end_time": "2025-08-01T05:20:32.093136",
     "exception": false,
     "start_time": "2025-08-01T05:20:32.075664",
     "status": "completed"
    },
    "tags": []
   },
   "outputs": [
    {
     "name": "stdout",
     "output_type": "stream",
     "text": [
      "Tensor:\n",
      " tf.Tensor(\n",
      "[[[[255]\n",
      "   [  0]\n",
      "   [127]]\n",
      "\n",
      "  [[255]\n",
      "   [  0]\n",
      "   [127]]\n",
      "\n",
      "  [[255]\n",
      "   [  0]\n",
      "   [127]]]\n",
      "\n",
      "\n",
      " [[[255]\n",
      "   [  0]\n",
      "   [127]]\n",
      "\n",
      "  [[255]\n",
      "   [  0]\n",
      "   [127]]\n",
      "\n",
      "  [[255]\n",
      "   [  0]\n",
      "   [127]]]], shape=(2, 3, 3, 1), dtype=uint8)\n",
      "Shape: (2, 3, 3, 1)\n",
      "Data Type: <dtype: 'uint8'>\n",
      "Rank: 4\n",
      "Reshaped Tensor:\n",
      " tf.Tensor(\n",
      "[[255   0 127 255   0 127 255   0 127]\n",
      " [255   0 127 255   0 127 255   0 127]], shape=(2, 9), dtype=uint8)\n",
      "New Shape: (2, 9)\n"
     ]
    }
   ],
   "source": [
    "import tensorflow as tf\n",
    "\n",
    "# Creating a 3-D tensor (batch of 2 images, 3x3 pixels, 1 channel)\n",
    "tensor = tf.constant([\n",
    "    [[[255], [0], [127]],\n",
    "     [[255], [0], [127]],\n",
    "     [[255], [0], [127]]],\n",
    "    \n",
    "    [[[255], [0], [127]],\n",
    "     [[255], [0], [127]],\n",
    "     [[255], [0], [127]]]\n",
    "], dtype=tf.uint8)\n",
    "\n",
    "print(\"Tensor:\\n\", tensor)\n",
    "print(\"Shape:\", tensor.shape)\n",
    "print(\"Data Type:\", tensor.dtype)\n",
    "print(\"Rank:\", tf.rank(tensor).numpy())\n",
    "\n",
    "# Reshaping the tensor to flatten the images\n",
    "reshaped_tensor = tf.reshape(tensor, (2, 9))\n",
    "print(\"Reshaped Tensor:\\n\", reshaped_tensor)\n",
    "print(\"New Shape:\", reshaped_tensor.shape)"
   ]
  },
  {
   "cell_type": "code",
   "execution_count": 10,
   "id": "050baaf9",
   "metadata": {
    "execution": {
     "iopub.execute_input": "2025-08-01T05:20:32.102206Z",
     "iopub.status.busy": "2025-08-01T05:20:32.101896Z",
     "iopub.status.idle": "2025-08-01T05:20:32.125820Z",
     "shell.execute_reply": "2025-08-01T05:20:32.124859Z"
    },
    "papermill": {
     "duration": 0.030099,
     "end_time": "2025-08-01T05:20:32.127274",
     "exception": false,
     "start_time": "2025-08-01T05:20:32.097175",
     "status": "completed"
    },
    "tags": []
   },
   "outputs": [
    {
     "name": "stdout",
     "output_type": "stream",
     "text": [
      "tf.Tensor([5 7 9], shape=(3,), dtype=int32)\n",
      "tf.Tensor([-3 -3 -3], shape=(3,), dtype=int32)\n",
      "tf.Tensor([ 4 10 18], shape=(3,), dtype=int32)\n",
      "tf.Tensor([4.  2.5 2. ], shape=(3,), dtype=float64)\n"
     ]
    }
   ],
   "source": [
    "a = tf.constant([1, 2, 3])\n",
    "b = tf.constant([4, 5, 6])\n",
    "c = tf.add(a, b)\n",
    "print(c)  \n",
    "\n",
    "c = tf.subtract(a, b)\n",
    "print(c)  \n",
    "\n",
    "c = tf.multiply(a, b)\n",
    "print(c)  \n",
    "\n",
    "c = tf.divide(b, a)\n",
    "print(c) "
   ]
  },
  {
   "cell_type": "code",
   "execution_count": 11,
   "id": "2ecdc736",
   "metadata": {
    "execution": {
     "iopub.execute_input": "2025-08-01T05:20:32.137365Z",
     "iopub.status.busy": "2025-08-01T05:20:32.137068Z",
     "iopub.status.idle": "2025-08-01T05:20:32.148653Z",
     "shell.execute_reply": "2025-08-01T05:20:32.147598Z"
    },
    "papermill": {
     "duration": 0.017903,
     "end_time": "2025-08-01T05:20:32.150164",
     "exception": false,
     "start_time": "2025-08-01T05:20:32.132261",
     "status": "completed"
    },
    "tags": []
   },
   "outputs": [
    {
     "name": "stdout",
     "output_type": "stream",
     "text": [
      "tf.Tensor(\n",
      "[[19 22]\n",
      " [43 50]], shape=(2, 2), dtype=int32)\n",
      "tf.Tensor(\n",
      "[[1 3]\n",
      " [2 4]], shape=(2, 2), dtype=int32)\n"
     ]
    }
   ],
   "source": [
    "matrix1 = tf.constant([[1, 2], [3, 4]])\n",
    "matrix2 = tf.constant([[5, 6], [7, 8]])\n",
    "product = tf.matmul(matrix1, matrix2)\n",
    "print(product)\n",
    "\n",
    "transposed = tf.transpose(matrix1)\n",
    "print(transposed)"
   ]
  },
  {
   "cell_type": "code",
   "execution_count": 12,
   "id": "ca596b42",
   "metadata": {
    "execution": {
     "iopub.execute_input": "2025-08-01T05:20:32.160037Z",
     "iopub.status.busy": "2025-08-01T05:20:32.159146Z",
     "iopub.status.idle": "2025-08-01T05:20:32.166457Z",
     "shell.execute_reply": "2025-08-01T05:20:32.165260Z"
    },
    "papermill": {
     "duration": 0.01365,
     "end_time": "2025-08-01T05:20:32.167969",
     "exception": false,
     "start_time": "2025-08-01T05:20:32.154319",
     "status": "completed"
    },
    "tags": []
   },
   "outputs": [
    {
     "name": "stdout",
     "output_type": "stream",
     "text": [
      "Original Shape: (2, 3)\n",
      "Reshaped Tensor:\n",
      " tf.Tensor(\n",
      "[[1 2]\n",
      " [3 4]\n",
      " [5 6]], shape=(3, 2), dtype=int32)\n",
      "New Shape: (3, 2)\n"
     ]
    }
   ],
   "source": [
    "import tensorflow as tf\n",
    "\n",
    "tensor = tf.constant([[1, 2, 3], [4, 5, 6]])\n",
    "print(\"Original Shape:\", tensor.shape)  \n",
    "\n",
    "reshaped = tf.reshape(tensor, (3, 2))\n",
    "print(\"Reshaped Tensor:\\n\", reshaped)\n",
    "print(\"New Shape:\", reshaped.shape)  "
   ]
  },
  {
   "cell_type": "code",
   "execution_count": 13,
   "id": "2cfbbaea",
   "metadata": {
    "execution": {
     "iopub.execute_input": "2025-08-01T05:20:32.177452Z",
     "iopub.status.busy": "2025-08-01T05:20:32.177136Z",
     "iopub.status.idle": "2025-08-01T05:20:32.190052Z",
     "shell.execute_reply": "2025-08-01T05:20:32.188965Z"
    },
    "papermill": {
     "duration": 0.019433,
     "end_time": "2025-08-01T05:20:32.191616",
     "exception": false,
     "start_time": "2025-08-01T05:20:32.172183",
     "status": "completed"
    },
    "tags": []
   },
   "outputs": [
    {
     "name": "stdout",
     "output_type": "stream",
     "text": [
      "Sliced Tensor:\n",
      " tf.Tensor(\n",
      "[[[1 2]\n",
      "  [3 4]]\n",
      "\n",
      " [[5 6]\n",
      "  [7 8]]], shape=(2, 2, 2), dtype=int32)\n",
      "Specific Element: tf.Tensor(8, shape=(), dtype=int32)\n"
     ]
    }
   ],
   "source": [
    "tensor = tf.constant([\n",
    "    [[1, 2], [3, 4]],\n",
    "    [[5, 6], [7, 8]],\n",
    "    [[9, 10], [11, 12]]\n",
    "])\n",
    "\n",
    "sliced = tensor[:2]\n",
    "print(\"Sliced Tensor:\\n\", sliced)\n",
    "\n",
    "element = tensor[1, 1, 1]\n",
    "print(\"Specific Element:\", element) #output=8"
   ]
  },
  {
   "cell_type": "code",
   "execution_count": 14,
   "id": "2bf092b8",
   "metadata": {
    "execution": {
     "iopub.execute_input": "2025-08-01T05:20:32.201612Z",
     "iopub.status.busy": "2025-08-01T05:20:32.201014Z",
     "iopub.status.idle": "2025-08-01T05:20:32.211939Z",
     "shell.execute_reply": "2025-08-01T05:20:32.210645Z"
    },
    "papermill": {
     "duration": 0.017657,
     "end_time": "2025-08-01T05:20:32.213593",
     "exception": false,
     "start_time": "2025-08-01T05:20:32.195936",
     "status": "completed"
    },
    "tags": []
   },
   "outputs": [
    {
     "name": "stdout",
     "output_type": "stream",
     "text": [
      "Broadcasted Tensor:\n",
      " tf.Tensor(\n",
      "[[11 21 31 41]\n",
      " [12 22 32 42]\n",
      " [13 23 33 43]], shape=(3, 4), dtype=int32)\n"
     ]
    }
   ],
   "source": [
    "# Tensor A of shape (3, 1)\n",
    "A = tf.constant([[1], [2], [3]])\n",
    "\n",
    "# Tensor B of shape (1, 4)\n",
    "B = tf.constant([[10, 20, 30, 40]])\n",
    "\n",
    "# Broadcasting to shape (3, 4)\n",
    "C = A + B\n",
    "print(\"Broadcasted Tensor:\\n\", C)"
   ]
  },
  {
   "cell_type": "code",
   "execution_count": 15,
   "id": "d4b5179b",
   "metadata": {
    "execution": {
     "iopub.execute_input": "2025-08-01T05:20:32.223306Z",
     "iopub.status.busy": "2025-08-01T05:20:32.222973Z",
     "iopub.status.idle": "2025-08-01T05:20:32.240675Z",
     "shell.execute_reply": "2025-08-01T05:20:32.239692Z"
    },
    "papermill": {
     "duration": 0.024157,
     "end_time": "2025-08-01T05:20:32.242107",
     "exception": false,
     "start_time": "2025-08-01T05:20:32.217950",
     "status": "completed"
    },
    "tags": []
   },
   "outputs": [
    {
     "name": "stdout",
     "output_type": "stream",
     "text": [
      "Sum All: tf.Tensor(10, shape=(), dtype=int32)\n",
      "Sum Axis 0: tf.Tensor([4 6], shape=(2,), dtype=int32)\n",
      "Sum Axis 1: tf.Tensor([3 7], shape=(2,), dtype=int32)\n",
      "Mean All: tf.Tensor(2, shape=(), dtype=int32)\n",
      "Max All: tf.Tensor(4, shape=(), dtype=int32)\n"
     ]
    }
   ],
   "source": [
    "tensor = tf.constant([[1, 2], [3, 4]])\n",
    "sum_all = tf.reduce_sum(tensor)\n",
    "sum_axis0 = tf.reduce_sum(tensor, axis=0)\n",
    "sum_axis1 = tf.reduce_sum(tensor, axis=1)\n",
    "print(\"Sum All:\", sum_all)           # 10\n",
    "print(\"Sum Axis 0:\", sum_axis0)     # [4, 6]\n",
    "print(\"Sum Axis 1:\", sum_axis1)     # [3, 7]\n",
    "\n",
    "mean_all = tf.reduce_mean(tensor)\n",
    "print(\"Mean All:\", mean_all)  \n",
    "\n",
    "max_all = tf.reduce_max(tensor)\n",
    "print(\"Max All:\", max_all)  "
   ]
  },
  {
   "cell_type": "code",
   "execution_count": 16,
   "id": "c58a01e3",
   "metadata": {
    "execution": {
     "iopub.execute_input": "2025-08-01T05:20:32.252082Z",
     "iopub.status.busy": "2025-08-01T05:20:32.251753Z",
     "iopub.status.idle": "2025-08-01T05:20:32.259346Z",
     "shell.execute_reply": "2025-08-01T05:20:32.258449Z"
    },
    "papermill": {
     "duration": 0.014074,
     "end_time": "2025-08-01T05:20:32.260714",
     "exception": false,
     "start_time": "2025-08-01T05:20:32.246640",
     "status": "completed"
    },
    "tags": []
   },
   "outputs": [
    {
     "name": "stdout",
     "output_type": "stream",
     "text": [
      "Expanded Tensor Shape: (2, 3, 1)\n",
      "Squeezed Tensor Shape: (2, 3)\n"
     ]
    }
   ],
   "source": [
    "# Original tensor of shape (2, 3)\n",
    "tensor = tf.constant([[1, 2, 3], [4, 5, 6]])\n",
    "\n",
    "# Adding a new axis to make it (2, 3, 1)\n",
    "expanded = tf.expand_dims(tensor, axis=-1)\n",
    "print(\"Expanded Tensor Shape:\", expanded.shape)  # (2, 3, 1)\n",
    "\n",
    "# Removing the added axis\n",
    "squeezed = tf.squeeze(expanded, axis=-1)\n",
    "print(\"Squeezed Tensor Shape:\", squeezed.shape)  # (2, 3)"
   ]
  },
  {
   "cell_type": "code",
   "execution_count": 17,
   "id": "7299a9b9",
   "metadata": {
    "execution": {
     "iopub.execute_input": "2025-08-01T05:20:32.271126Z",
     "iopub.status.busy": "2025-08-01T05:20:32.270273Z",
     "iopub.status.idle": "2025-08-01T05:20:32.283593Z",
     "shell.execute_reply": "2025-08-01T05:20:32.282446Z"
    },
    "papermill": {
     "duration": 0.019914,
     "end_time": "2025-08-01T05:20:32.285015",
     "exception": false,
     "start_time": "2025-08-01T05:20:32.265101",
     "status": "completed"
    },
    "tags": []
   },
   "outputs": [
    {
     "name": "stdout",
     "output_type": "stream",
     "text": [
      "Concatenated along axis 0:\n",
      " tf.Tensor(\n",
      "[[1 2]\n",
      " [3 4]\n",
      " [5 6]\n",
      " [7 8]], shape=(4, 2), dtype=int32)\n",
      "Concatenated along axis 1:\n",
      " tf.Tensor(\n",
      "[[1 2 5 6]\n",
      " [3 4 7 8]], shape=(2, 4), dtype=int32)\n",
      "Stacked Tensor:\n",
      " tf.Tensor(\n",
      "[[[1 2]\n",
      "  [3 4]]\n",
      "\n",
      " [[5 6]\n",
      "  [7 8]]], shape=(2, 2, 2), dtype=int32)\n",
      "Stacked Shape: (2, 2, 2)\n"
     ]
    }
   ],
   "source": [
    "tensor1 = tf.constant([[1, 2], [3, 4]])\n",
    "tensor2 = tf.constant([[5, 6], [7, 8]])\n",
    "\n",
    "# Concatenate along axis 0\n",
    "concat_axis0 = tf.concat([tensor1, tensor2], axis=0)\n",
    "print(\"Concatenated along axis 0:\\n\", concat_axis0)\n",
    "\n",
    "# Concatenate along axis 1\n",
    "concat_axis1 = tf.concat([tensor1, tensor2], axis=1)\n",
    "print(\"Concatenated along axis 1:\\n\", concat_axis1)\n",
    "\n",
    "# Stack tensors along a new axis\n",
    "stacked = tf.stack([tensor1, tensor2], axis=0)\n",
    "print(\"Stacked Tensor:\\n\", stacked)\n",
    "print(\"Stacked Shape:\", stacked.shape)  # (2, 2, 2)"
   ]
  },
  {
   "cell_type": "code",
   "execution_count": 18,
   "id": "9ff1b98b",
   "metadata": {
    "execution": {
     "iopub.execute_input": "2025-08-01T05:20:32.295053Z",
     "iopub.status.busy": "2025-08-01T05:20:32.294715Z",
     "iopub.status.idle": "2025-08-01T05:20:32.312024Z",
     "shell.execute_reply": "2025-08-01T05:20:32.310977Z"
    },
    "papermill": {
     "duration": 0.02402,
     "end_time": "2025-08-01T05:20:32.313673",
     "exception": false,
     "start_time": "2025-08-01T05:20:32.289653",
     "status": "completed"
    },
    "tags": []
   },
   "outputs": [
    {
     "name": "stdout",
     "output_type": "stream",
     "text": [
      "One-Hot Encoded Tensor:\n",
      " tf.Tensor(\n",
      "[[1. 0. 0.]\n",
      " [0. 1. 0.]\n",
      " [0. 0. 1.]\n",
      " [0. 1. 0.]], shape=(4, 3), dtype=float32)\n",
      "Inverse of Matrix:\n",
      " tf.Tensor(\n",
      "[[-2.0000002   1.0000001 ]\n",
      " [ 1.5000001  -0.50000006]], shape=(2, 2), dtype=float32)\n",
      "Eigenvalues: tf.Tensor([-0.37228122+0.j  5.372281  +0.j], shape=(2,), dtype=complex64)\n",
      "Eigenvectors:\n",
      " tf.Tensor(\n",
      "[[-0.8245648 +0.j -0.41597357+0.j]\n",
      " [ 0.56576747+0.j -0.90937674+0.j]], shape=(2, 2), dtype=complex64)\n"
     ]
    }
   ],
   "source": [
    "indices = tf.constant([0, 1, 2, 1])\n",
    "depth = 3\n",
    "one_hot = tf.one_hot(indices, depth)\n",
    "print(\"One-Hot Encoded Tensor:\\n\", one_hot)\n",
    "\n",
    "matrix = tf.constant([[1., 2.], [3., 4.]])\n",
    "inverse = tf.linalg.inv(matrix)\n",
    "print(\"Inverse of Matrix:\\n\", inverse)\n",
    "\n",
    "matrix = tf.constant([[1., 2.], [3., 4.]])\n",
    "eigenvalues, eigenvectors = tf.linalg.eig(matrix)\n",
    "print(\"Eigenvalues:\", eigenvalues)\n",
    "print(\"Eigenvectors:\\n\", eigenvectors)"
   ]
  },
  {
   "cell_type": "code",
   "execution_count": 19,
   "id": "333e6972",
   "metadata": {
    "execution": {
     "iopub.execute_input": "2025-08-01T05:20:32.324450Z",
     "iopub.status.busy": "2025-08-01T05:20:32.323803Z",
     "iopub.status.idle": "2025-08-01T05:20:32.337057Z",
     "shell.execute_reply": "2025-08-01T05:20:32.335970Z"
    },
    "papermill": {
     "duration": 0.020145,
     "end_time": "2025-08-01T05:20:32.338633",
     "exception": false,
     "start_time": "2025-08-01T05:20:32.318488",
     "status": "completed"
    },
    "tags": []
   },
   "outputs": [
    {
     "name": "stdout",
     "output_type": "stream",
     "text": [
      "Addition:\n",
      " tf.Tensor(\n",
      "[[ 6  8]\n",
      " [10 12]], shape=(2, 2), dtype=int32)\n",
      "Element-Wise Multiplication:\n",
      " tf.Tensor(\n",
      "[[ 5 12]\n",
      " [21 32]], shape=(2, 2), dtype=int32)\n",
      "Matrix Product:\n",
      " tf.Tensor(\n",
      "[[19 22]\n",
      " [43 50]], shape=(2, 2), dtype=int32)\n",
      "Reshaped Tensor:\n",
      " tf.Tensor(\n",
      "[[1]\n",
      " [2]\n",
      " [3]\n",
      " [4]], shape=(4, 1), dtype=int32)\n",
      "Sliced Tensor: tf.Tensor([2 4], shape=(2,), dtype=int32)\n",
      "Sum of All Elements: tf.Tensor(10, shape=(), dtype=int32)\n"
     ]
    }
   ],
   "source": [
    "import tensorflow as tf\n",
    "\n",
    "# Creating two tensors\n",
    "a = tf.constant([[1, 2], [3, 4]])\n",
    "b = tf.constant([[5, 6], [7, 8]])\n",
    "\n",
    "# Arithmetic Operations\n",
    "addition = a + b\n",
    "multiplication = a * b\n",
    "matrix_product = tf.matmul(a, b)\n",
    "\n",
    "print(\"Addition:\\n\", addition)\n",
    "print(\"Element-Wise Multiplication:\\n\", multiplication)\n",
    "print(\"Matrix Product:\\n\", matrix_product)\n",
    "\n",
    "# Reshaping\n",
    "reshaped = tf.reshape(a, (4, 1))\n",
    "print(\"Reshaped Tensor:\\n\", reshaped)\n",
    "\n",
    "# Slicing\n",
    "sliced = a[:, 1]\n",
    "print(\"Sliced Tensor:\", sliced)\n",
    "\n",
    "# Reduction\n",
    "sum_all = tf.reduce_sum(a)\n",
    "print(\"Sum of All Elements:\", sum_all)"
   ]
  }
 ],
 "metadata": {
  "kaggle": {
   "accelerator": "none",
   "dataSources": [],
   "dockerImageVersionId": 31089,
   "isGpuEnabled": false,
   "isInternetEnabled": true,
   "language": "python",
   "sourceType": "notebook"
  },
  "kernelspec": {
   "display_name": "Python 3",
   "language": "python",
   "name": "python3"
  },
  "language_info": {
   "codemirror_mode": {
    "name": "ipython",
    "version": 3
   },
   "file_extension": ".py",
   "mimetype": "text/x-python",
   "name": "python",
   "nbconvert_exporter": "python",
   "pygments_lexer": "ipython3",
   "version": "3.11.13"
  },
  "papermill": {
   "default_parameters": {},
   "duration": 28.130378,
   "end_time": "2025-08-01T05:20:35.629692",
   "environment_variables": {},
   "exception": null,
   "input_path": "__notebook__.ipynb",
   "output_path": "__notebook__.ipynb",
   "parameters": {},
   "start_time": "2025-08-01T05:20:07.499314",
   "version": "2.6.0"
  }
 },
 "nbformat": 4,
 "nbformat_minor": 5
}
